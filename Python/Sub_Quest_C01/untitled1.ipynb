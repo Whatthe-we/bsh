{
  "nbformat": 4,
  "nbformat_minor": 0,
  "metadata": {
    "colab": {
      "provenance": [],
      "authorship_tag": "ABX9TyPX49x9XYLL8puzB6pGMm0O",
      "include_colab_link": true
    },
    "kernelspec": {
      "name": "python3",
      "display_name": "Python 3"
    },
    "language_info": {
      "name": "python"
    }
  },
  "cells": [
    {
      "cell_type": "markdown",
      "metadata": {
        "id": "view-in-github",
        "colab_type": "text"
      },
      "source": [
        "<a href=\"https://colab.research.google.com/github/snow-white2024/AIFFEL_quest_cr/blob/master/Python/Sub_Quest_C01/untitled1.ipynb\" target=\"_parent\"><img src=\"https://colab.research.google.com/assets/colab-badge.svg\" alt=\"Open In Colab\"/></a>"
      ]
    },
    {
      "cell_type": "code",
      "execution_count": 9,
      "metadata": {
        "colab": {
          "base_uri": "https://localhost:8080/"
        },
        "id": "GZ1uslQ1PghA",
        "outputId": "a0941c06-5ca3-42d3-b91a-35a2983262e5"
      },
      "outputs": [
        {
          "output_type": "stream",
          "name": "stdout",
          "text": [
            "문자를 입력하세요기러기\n",
            "회문이 맞습니다.\n",
            "뒤집힌 단어 : 기러기\n"
          ]
        }
      ],
      "source": [
        "#input 으로 문자열을 입력받는다.\n",
        "\n",
        "#입력받은 문자열을 읽어서 거꾸로 다른 변수에 저장한다.\n",
        "\n",
        "#if문을 사용해서 첫번째 문자열과 두번째 문자열이 같은지 비교한다.\n",
        "\n",
        "#True 가 나오면 회문이라고 출력하고, 그렇지 않다면 회문이 아니라고 출력한다.\n",
        "\n",
        "#회고 : 퀘스트만 받았을때는 막막했으나 파트너와 함께 하여 막막하지 않고 도움을 주고 받으며 잘 할 수 있었습니다! 또한 복잡해보이는 조건들을 정확한 명령어 하나도 줄일 수 있는 경험도 매우 신기했습니다 - 백승호\n",
        "\n",
        "text = str(input('문자를 입력하세요'))\n",
        "reverse_text = text[::-1] #문자열 인덱싱을 활용하여 거꾸로 출력하는 알고리즘을 만들 수 있었습니다.\n",
        "if reverse_text == text: #'='하나만 넣었더니 제대로 동작은 안했는데, 같음을 표시할때는 '==\"라는 것으로 확인, 수정하였습니다.\n",
        "    print(\"회문이 맞습니다.\")\n",
        "else:\n",
        "    print(\"회문이 아닙니다.\")\n",
        "print(\"뒤집힌 단어 :\" , reverse_text)"
      ]
    },
    {
      "cell_type": "code",
      "source": [
        "text = str(input('문자를 입력하세요'))\n",
        "reverse_text = text[::-1]\n",
        "if reverse_text == text:\n",
        "    print(\"회문이 맞습니다.\")\n",
        "else:\n",
        "    print(\"회문이 아닙니다.\")\n",
        "print(\"뒤집힌 단어 :\" , reverse_text)"
      ],
      "metadata": {
        "colab": {
          "base_uri": "https://localhost:8080/"
        },
        "id": "cEUcCDERZQyS",
        "outputId": "e283bbd5-ef4d-4a65-e06b-8d5067f149b4"
      },
      "execution_count": 10,
      "outputs": [
        {
          "output_type": "stream",
          "name": "stdout",
          "text": [
            "문자를 입력하세요짱구는못말려\n",
            "회문이 아닙니다.\n",
            "뒤집힌 단어 : 려말못는구짱\n"
          ]
        }
      ]
    }
  ]
}