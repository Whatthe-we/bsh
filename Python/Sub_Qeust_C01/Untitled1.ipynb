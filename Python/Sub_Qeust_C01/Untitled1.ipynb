{
  "nbformat": 4,
  "nbformat_minor": 0,
  "metadata": {
    "colab": {
      "provenance": [],
      "authorship_tag": "ABX9TyMrKJWupejzOJwk59N5Qs92",
      "include_colab_link": true
    },
    "kernelspec": {
      "name": "python3",
      "display_name": "Python 3"
    },
    "language_info": {
      "name": "python"
    }
  },
  "cells": [
    {
      "cell_type": "markdown",
      "metadata": {
        "id": "view-in-github",
        "colab_type": "text"
      },
      "source": [
        "<a href=\"https://colab.research.google.com/github/snow-white2024/AIFFEL_quest_cr/blob/master/Python/Sub_Qeust_C01/Untitled1.ipynb\" target=\"_parent\"><img src=\"https://colab.research.google.com/assets/colab-badge.svg\" alt=\"Open In Colab\"/></a>"
      ]
    },
    {
      "cell_type": "code",
      "execution_count": 1,
      "metadata": {
        "colab": {
          "base_uri": "https://localhost:8080/"
        },
        "id": "GZ1uslQ1PghA",
        "outputId": "43a73b36-5b79-4d16-cdcf-de4cd8dfdab5"
      },
      "outputs": [
        {
          "output_type": "stream",
          "name": "stdout",
          "text": [
            "문자를 입력하세요기러기\n",
            "회문이 맞습니다.\n"
          ]
        }
      ],
      "source": [
        "#input 으로 문자열을 입력받는다.\n",
        "\n",
        "#입력받은 문자열을 읽어서 거꾸로 다른 변수에 저장한다.\n",
        "\n",
        "#if문을 사용해서 첫번째 문자열과 두번째 문자열이 같은지 비교한다.\n",
        "\n",
        "#True 가 나오면 회문이라고 출력하고, 그렇지 않다면 회문이 아니라고 출력한다.\n",
        "\n",
        "text = str(input('문자를 입력하세요'))\n",
        "reverse_text = text[::-1]\n",
        "if reverse_text == text:\n",
        "    print(\"회문이 맞습니다.\")\n",
        "else:\n",
        "    print(\"회문이 아닙니다.\")"
      ]
    }
  ]
}